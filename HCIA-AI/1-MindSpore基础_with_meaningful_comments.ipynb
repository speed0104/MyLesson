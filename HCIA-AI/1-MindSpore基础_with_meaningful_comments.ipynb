{
 "cells": [
  {
   "cell_type": "code",
   "execution_count": 1,
   "id": "12c63408",
   "metadata": {},
   "outputs": [
    {
     "data": {
      "text/plain": [
       "Tensor(shape=[2, 2], dtype=Int32, value=\n",
       "[[1, 2],\n",
       " [3, 4]])"
      ]
     },
     "execution_count": 1,
     "metadata": {},
     "output_type": "execute_result"
    }
   ],
   "source": [
    "# 导入MindSpore\n",
    "import mindspore\n",
    "\n",
    "#导入了 InteractiveShell 类并设置了 ast_node_interactivity 属性为 \"all\"。这样可以使得 Jupyter notebook 的每个 cell 可以输出多行结果。\n",
    "from IPython.core.interactiveshell import InteractiveShell\n",
    "InteractiveShell.ast_node_interactivity = \"all\"\n",
    "\n",
    "import numpy as np\n",
    "from mindspore import Tensor\n",
    "from mindspore import dtype\n",
    "# 用数组创建张量\n",
    "x = Tensor(np.array([[1, 2], [3, 4]]), dtype.int32)\n",
    "x   "
   ]
  },
  {
   "cell_type": "code",
   "execution_count": 2,
   "id": "29cbd087",
   "metadata": {},
   "outputs": [
    {
     "data": {
      "text/plain": [
       "Tensor(shape=[], dtype=Int32, value= 1)"
      ]
     },
     "execution_count": 2,
     "metadata": {},
     "output_type": "execute_result"
    },
    {
     "data": {
      "text/plain": [
       "Tensor(shape=[], dtype=Int32, value= 2)"
      ]
     },
     "execution_count": 2,
     "metadata": {},
     "output_type": "execute_result"
    }
   ],
   "source": [
    "# 用数值创建张量\n",
    "y = Tensor(1.0, dtype.int32)\n",
    "z = Tensor(2, dtype.int32)\n",
    "y\n",
    "z"
   ]
  },
  {
   "cell_type": "code",
   "execution_count": 3,
   "id": "871bdc5f",
   "metadata": {},
   "outputs": [
    {
     "data": {
      "text/plain": [
       "Tensor(shape=[], dtype=Bool, value= True)"
      ]
     },
     "execution_count": 3,
     "metadata": {},
     "output_type": "execute_result"
    }
   ],
   "source": [
    "# 创建一个 bool_ 类型的张量 m，其值为 True。\n",
    "m = Tensor(True, dtype.bool_)\n",
    "m"
   ]
  },
  {
   "cell_type": "code",
   "execution_count": 4,
   "id": "80b05c19",
   "metadata": {},
   "outputs": [
    {
     "data": {
      "text/plain": [
       "Tensor(shape=[3], dtype=Int16, value= [1, 2, 3])"
      ]
     },
     "execution_count": 4,
     "metadata": {},
     "output_type": "execute_result"
    }
   ],
   "source": [
    "# 用tuple创建张量\n",
    "n = Tensor((1, 2, 3), dtype.int16)\n",
    "n"
   ]
  },
  {
   "cell_type": "code",
   "execution_count": 5,
   "id": "8254dd36",
   "metadata": {},
   "outputs": [
    {
     "data": {
      "text/plain": [
       "Tensor(shape=[3], dtype=Float64, value= [ 4.00000000e+00,  5.00000000e+00,  6.00000000e+00])"
      ]
     },
     "execution_count": 5,
     "metadata": {},
     "output_type": "execute_result"
    }
   ],
   "source": [
    "# 用list创建张量\n",
    "p = Tensor([4.0, 5.0, 6.0], dtype.float64)\n",
    "p"
   ]
  },
  {
   "cell_type": "code",
   "execution_count": 6,
   "id": "828f953f",
   "metadata": {},
   "outputs": [
    {
     "data": {
      "text/plain": [
       "Tensor(shape=[2, 2], dtype=Int32, value=\n",
       "[[1, 1],\n",
       " [1, 1]])"
      ]
     },
     "execution_count": 6,
     "metadata": {},
     "output_type": "execute_result"
    }
   ],
   "source": [
    "from mindspore import ops\n",
    "# 创建一个 OnesLike 对象，这个对象可以创建一个与输入张量具有相同形状的新张量，其中所有元素的值都是1。\n",
    "oneslike = ops.OnesLike()\n",
    "x = Tensor(np.array([[0, 1], [2, 1]]).astype(np.int32))\n",
    "output = oneslike(x)\n",
    "output"
   ]
  },
  {
   "cell_type": "code",
   "execution_count": 8,
   "id": "6c293889",
   "metadata": {},
   "outputs": [
    {
     "name": "stdout",
     "output_type": "stream",
     "text": [
      "[[1. 1.]\n",
      " [1. 1.]]\n",
      "[[0. 0.]\n",
      " [0. 0.]]\n"
     ]
    }
   ],
   "source": [
    "from mindspore.ops import operations as ops\n",
    "\n",
    "#定义张量形状\n",
    "shape = (2, 2)\n",
    "ones = ops.Ones()\n",
    "output = ones(shape,dtype.float32)\n",
    "print(output)\n",
    "\n",
    "zeros = ops.Zeros()\n",
    "output = zeros(shape, dtype.float32)\n",
    "print(output)"
   ]
  },
  {
   "cell_type": "code",
   "execution_count": 9,
   "id": "a5b2166a",
   "metadata": {},
   "outputs": [
    {
     "data": {
      "text/plain": [
       "(2, 2)"
      ]
     },
     "execution_count": 9,
     "metadata": {},
     "output_type": "execute_result"
    },
    {
     "data": {
      "text/plain": [
       "mindspore.int32"
      ]
     },
     "execution_count": 9,
     "metadata": {},
     "output_type": "execute_result"
    },
    {
     "data": {
      "text/plain": [
       "2"
      ]
     },
     "execution_count": 9,
     "metadata": {},
     "output_type": "execute_result"
    },
    {
     "data": {
      "text/plain": [
       "4"
      ]
     },
     "execution_count": 9,
     "metadata": {},
     "output_type": "execute_result"
    }
   ],
   "source": [
    "x = Tensor(np.array([[1, 2], [3, 4]]), dtype.int32)\n",
    "\n",
    "x.shape # 形状\n",
    "x.dtype # 数据类型\n",
    "x.ndim  # 维度\n",
    "x.size  # 大小"
   ]
  },
  {
   "cell_type": "code",
   "execution_count": 9,
   "id": "f3f3b4d0",
   "metadata": {},
   "outputs": [
    {
     "data": {
      "text/plain": [
       "Tensor(shape=[2, 2], dtype=Bool, value=\n",
       "[[ True,  True],\n",
       " [False, False]])"
      ]
     },
     "execution_count": 9,
     "metadata": {},
     "output_type": "execute_result"
    },
    {
     "data": {
      "text/plain": [
       "array([[ True,  True],\n",
       "       [False, False]])"
      ]
     },
     "execution_count": 9,
     "metadata": {},
     "output_type": "execute_result"
    }
   ],
   "source": [
    "y = Tensor(np.array([[True, True], [False, False]]), dtype.bool_)\n",
    "\n",
    "# 将Tensor数据类型转换成NumPy\n",
    "y_array = y.asnumpy()\n",
    "\n",
    "y\n",
    "y_array "
   ]
  },
  {
   "cell_type": "code",
   "execution_count": 10,
   "id": "91abacc1",
   "metadata": {},
   "outputs": [
    {
     "name": "stdout",
     "output_type": "stream",
     "text": [
      "First row: [0. 1.]\n",
      "First column: [0. 2.]\n",
      "Last column: [1. 3.]\n"
     ]
    }
   ],
   "source": [
    "tensor = Tensor(np.array([[0, 1], [2, 3]]).astype(np.float32))\n",
    "print(\"First row: {}\".format(tensor[0]))\n",
    "print(\"First column: {}\".format(tensor[:, 0]))\n",
    "print(\"Last column: {}\".format(tensor[..., -1]))"
   ]
  },
  {
   "cell_type": "code",
   "execution_count": 11,
   "id": "91458fb2",
   "metadata": {},
   "outputs": [
    {
     "name": "stdout",
     "output_type": "stream",
     "text": [
      "[[[0. 1.]\n",
      "  [2. 3.]]\n",
      "\n",
      " [[4. 5.]\n",
      "  [6. 7.]]]\n"
     ]
    }
   ],
   "source": [
    "data1 = Tensor(np.array([[0, 1], [2, 3]]).astype(np.float32))\n",
    "data2 = Tensor(np.array([[4, 5], [6, 7]]).astype(np.float32))\n",
    "# 创建一个Stack操作，用于将多个Tensor沿新的轴堆叠\n",
    "op = ops.Stack()\n",
    "# 使用Stack操作将data1和data2堆叠起来，形成一个新的Tensor\n",
    "output = op([data1, data2])\n",
    "print(output)"
   ]
  },
  {
   "cell_type": "code",
   "execution_count": 12,
   "id": "81fa3c86",
   "metadata": {},
   "outputs": [
    {
     "name": "stdout",
     "output_type": "stream",
     "text": [
      "output: <class 'mindspore.common._stub_tensor.StubTensor'>\n",
      "n_output: <class 'numpy.ndarray'>\n"
     ]
    }
   ],
   "source": [
    "zeros = ops.Zeros()\n",
    "# 使用Zeros操作创建一个形状为(2, 2)的全零Tensor，数据类型为float32\n",
    "output = zeros((2,2), dtype.float32)\n",
    "print(\"output: {}\".format(type(output)))\n",
    "n_output = output.asnumpy()\n",
    "print(\"n_output: {}\".format(type(n_output)))"
   ]
  },
  {
   "cell_type": "code",
   "execution_count": 13,
   "id": "5fcc1c36",
   "metadata": {},
   "outputs": [
    {
     "data": {
      "text/plain": [
       "<Figure size 800x800 with 0 Axes>"
      ]
     },
     "execution_count": 13,
     "metadata": {},
     "output_type": "execute_result"
    },
    {
     "data": {
      "text/plain": [
       "<Axes: >"
      ]
     },
     "execution_count": 13,
     "metadata": {},
     "output_type": "execute_result"
    },
    {
     "data": {
      "text/plain": [
       "<matplotlib.image.AxesImage at 0x134f7e5fd60>"
      ]
     },
     "execution_count": 13,
     "metadata": {},
     "output_type": "execute_result"
    },
    {
     "data": {
      "text/plain": [
       "(-0.5, 27.5, 27.5, -0.5)"
      ]
     },
     "execution_count": 13,
     "metadata": {},
     "output_type": "execute_result"
    },
    {
     "data": {
      "text/plain": [
       "<Axes: >"
      ]
     },
     "execution_count": 13,
     "metadata": {},
     "output_type": "execute_result"
    },
    {
     "data": {
      "text/plain": [
       "<matplotlib.image.AxesImage at 0x134f7e6cdf0>"
      ]
     },
     "execution_count": 13,
     "metadata": {},
     "output_type": "execute_result"
    },
    {
     "data": {
      "text/plain": [
       "(-0.5, 27.5, 27.5, -0.5)"
      ]
     },
     "execution_count": 13,
     "metadata": {},
     "output_type": "execute_result"
    },
    {
     "data": {
      "text/plain": [
       "<Axes: >"
      ]
     },
     "execution_count": 13,
     "metadata": {},
     "output_type": "execute_result"
    },
    {
     "data": {
      "text/plain": [
       "<matplotlib.image.AxesImage at 0x134f7e5fe50>"
      ]
     },
     "execution_count": 13,
     "metadata": {},
     "output_type": "execute_result"
    },
    {
     "data": {
      "text/plain": [
       "(-0.5, 27.5, 27.5, -0.5)"
      ]
     },
     "execution_count": 13,
     "metadata": {},
     "output_type": "execute_result"
    },
    {
     "data": {
      "image/png": "[encoded data removed]",
      "text/plain": [
       "<Figure size 800x800 with 3 Axes>"
      ]
     },
     "metadata": {},
     "output_type": "display_data"
    }
   ],
   "source": [
    "import os\n",
    "import mindspore.dataset as ds\n",
    "import matplotlib.pyplot as plt\n",
    "\n",
    "dataset_dir = \"./data/MNIST_Data/train\"  # 数据集路径\n",
    "# 从mnist dataset读取3张图片\n",
    "mnist_dataset = ds.MnistDataset(dataset_dir=dataset_dir, num_samples=3)\n",
    "# 查看图像，设置图像大小\n",
    "plt.figure(figsize=(8,8))\n",
    "i = 1\n",
    "\n",
    "# 打印3张子图\n",
    "for dic in mnist_dataset.create_dict_iterator(output_numpy=True):\n",
    "    # 在3x3的网格中创建子图\n",
    "    plt.subplot(3,3,i)\n",
    "    # 显示图像\n",
    "    plt.imshow(dic['image'][:,:,0])\n",
    "    # 关闭坐标轴\n",
    "    plt.axis('off')\n",
    "    i +=1\n",
    "plt.show() "
   ]
  },
  {
   "cell_type": "code",
   "execution_count": 14,
   "id": "975035db",
   "metadata": {},
   "outputs": [
    {
     "name": "stdout",
     "output_type": "stream",
     "text": [
      "[0.36510558 0.45120592] [0.78888122]\n",
      "[0.49606035 0.07562207] [0.38068183]\n",
      "[0.57176158 0.28963401] [0.16271622]\n",
      "[0.30880446 0.37487617] [0.54738768]\n",
      "[0.81585667 0.96883469] [0.77994068]\n"
     ]
    }
   ],
   "source": [
    "import numpy as np\n",
    "np.random.seed(58)\n",
    "\n",
    "class DatasetGenerator:\n",
    "#实例化数据集对象时，__init__函数被调用，用户可以在此进行数据初始化等操作。\n",
    "    def __init__(self):\n",
    "        # 定义一个名为DatasetGenerator的数据集生成器类，其中包含两个属性：data和label\n",
    "        self.data = np.random.sample((5, 2))\n",
    "        self.label = np.random.sample((5, 1))\n",
    "#定义数据集类的__getitem__函数，使其支持随机访问，能够根据给定的索引值index，获取数据集中的数据并返回。\n",
    "    def __getitem__(self, index):\n",
    "        return self.data[index], self.label[index]\n",
    "#定义数据集类的__len__函数，返回数据集的样本数量。\n",
    "    def __len__(self):\n",
    "        return len(self.data)\n",
    "    \n",
    "# 创建一个DatasetGenerator实例\n",
    "dataset_generator = DatasetGenerator()\n",
    "\n",
    "# 使用MindSpore的GeneratorDataset接口创建一个数据集\n",
    "dataset = ds.GeneratorDataset(dataset_generator, [\"data\", \"label\"], shuffle=False)\n",
    "\n",
    "# 遍历数据集并打印每个样本的数据和标签\n",
    "for data in dataset.create_dict_iterator():\n",
    "    print('{}'.format(data[\"data\"]), '{}'.format(data[\"label\"]))"
   ]
  },
  {
   "cell_type": "code",
   "execution_count": 15,
   "id": "b4488dd5",
   "metadata": {},
   "outputs": [
    {
     "name": "stdout",
     "output_type": "stream",
     "text": [
      "data: [[0.36510558 0.45120592]\n",
      " [0.57176158 0.28963401]]\n",
      "label: [[0.78888122]\n",
      " [0.16271622]]\n",
      "data: [[0.30880446 0.37487617]\n",
      " [0.49606035 0.07562207]]\n",
      "label: [[0.54738768]\n",
      " [0.38068183]]\n",
      "data: [[0.81585667 0.96883469]]\n",
      "label: [[0.77994068]]\n"
     ]
    }
   ],
   "source": [
    "# 设置随机数种子\n",
    "ds.config.set_seed(58)\n",
    "\n",
    "# 对数据集进行混洗，设置缓存区大小为10\n",
    "dataset = dataset.shuffle(buffer_size=10)\n",
    "# 对数据集进行批处理，设置每个批次包含2个样本\n",
    "dataset = dataset.batch(batch_size=2)\n",
    "\n",
    "# 遍历批处理后的数据集并打印每个批次的数据和标签\n",
    "for data in dataset.create_dict_iterator():\n",
    "    print(\"data: {}\".format(data[\"data\"]))\n",
    "    print(\"label: {}\".format(data[\"label\"]))"
   ]
  },
  {
   "cell_type": "code",
   "execution_count": 16,
   "id": "3dd8ec99",
   "metadata": {},
   "outputs": [
    {
     "data": {
      "text/plain": [
       "<matplotlib.image.AxesImage at 0x134f7cf3bb0>"
      ]
     },
     "execution_count": 16,
     "metadata": {},
     "output_type": "execute_result"
    },
    {
     "data": {
      "text/plain": [
       "Text(0.5, 1.0, '5')"
      ]
     },
     "execution_count": 16,
     "metadata": {},
     "output_type": "execute_result"
    },
    {
     "data": {
      "image/png": "[encoded data removed]",
      "text/plain": [
       "<Figure size 640x480 with 1 Axes>"
      ]
     },
     "metadata": {},
     "output_type": "display_data"
    }
   ],
   "source": [
    "import matplotlib.pyplot as plt\n",
    "\n",
    "# 从MindSpore的数据集vision模块导入插值方法\n",
    "from mindspore.dataset.vision import Inter\n",
    "# 导入MindSpore的vision.c_transforms模块，该模块包含许多计算机视觉领域的图像增强和预处理函数\n",
    "import mindspore.dataset.vision.c_transforms as c_vision\n",
    "\n",
    "DATA_DIR = './data/MNIST_Data/train'\n",
    "\n",
    "# 创建一个MNIST数据集的实例，从指定的目录加载数据，不打乱数据顺序，只加载6个样本\n",
    "mnist_dataset = ds.MnistDataset(DATA_DIR, num_samples=6, shuffle=False)\n",
    "\n",
    "# 创建一个字典迭代器，用于遍历数据集中的样本\n",
    "mnist_it = mnist_dataset.create_dict_iterator()\n",
    "\n",
    "# 从迭代器中获取下一个元素，即一个样本\n",
    "data = next(mnist_it)\n",
    "\n",
    "## 显示样本的图像，将其转换为numpy数组，移除单维度条目，使用灰度图显示\n",
    "plt.imshow(data['image'].asnumpy().squeeze(), cmap=plt.cm.gray)\n",
    "\n",
    "# 设置标题为样本的标签，将标签转换为numpy数组，字体大小为20\n",
    "plt.title(data['label'].asnumpy(), fontsize=20)\n",
    "plt.show()"
   ]
  },
  {
   "cell_type": "code",
   "execution_count": 17,
   "id": "55b2f4b5",
   "metadata": {},
   "outputs": [
    {
     "name": "stderr",
     "output_type": "stream",
     "text": [
      "[WARNING] ME(41532:33096,MainProcess):2023-07-13-14:11:22.518.481 [mindspore\\dataset\\core\\validator_helpers.py:806] 'Resize' from mindspore.dataset.vision.c_transforms is deprecated from version 1.8 and will be removed in a future version. Use 'Resize' from mindspore.dataset.vision instead.\n",
      "[WARNING] ME(41532:33096,MainProcess):2023-07-13-14:11:22.519.744 [mindspore\\dataset\\core\\validator_helpers.py:806] 'RandomCrop' from mindspore.dataset.vision.c_transforms is deprecated from version 1.8 and will be removed in a future version. Use 'RandomCrop' from mindspore.dataset.vision instead.\n"
     ]
    },
    {
     "data": {
      "text/plain": [
       "<matplotlib.image.AxesImage at 0x134d1b52fa0>"
      ]
     },
     "execution_count": 17,
     "metadata": {},
     "output_type": "execute_result"
    },
    {
     "data": {
      "text/plain": [
       "Text(0.5, 1.0, '5')"
      ]
     },
     "execution_count": 17,
     "metadata": {},
     "output_type": "execute_result"
    },
    {
     "data": {
      "image/png": "[encoded data removed]",
      "text/plain": [
       "<Figure size 640x480 with 1 Axes>"
      ]
     },
     "metadata": {},
     "output_type": "display_data"
    }
   ],
   "source": [
    "# 创建一个Resize操作，将图像尺寸调整为40x40，使用线性插值方法\n",
    "resize_op = c_vision.Resize(size=(40,40), interpolation=Inter.LINEAR)\n",
    "\n",
    "# 创建一个RandomCrop操作，随机裁剪图像到28x28的大小\n",
    "crop_op = c_vision.RandomCrop(28)\n",
    "\n",
    "# 创建一个列表，包含上述的Resize和RandomCrop操作\n",
    "transforms_list = [resize_op, crop_op]\n",
    "\n",
    "# 对数据集进行map操作，即应用上述的图像转换操作到每个样本的\"image\"列\n",
    "mnist_dataset = mnist_dataset.map(operations=transforms_list, input_columns=[\"image\"])\n",
    "\n",
    " # 创建一个新的字典迭代器，用于遍历处理后的数据集\n",
    "mnist_dataset = mnist_dataset.create_dict_iterator()\n",
    "\n",
    " # 从新的迭代器中获取下一个元素，即一个样本\n",
    "data = next(mnist_dataset)\n",
    "\n",
    "# 显示处理后的样本图像，将其转换为numpy数组，移除单维度条目，使用灰度图显示\n",
    "plt.imshow(data['image'].asnumpy().squeeze(), cmap=plt.cm.gray)\n",
    "\n",
    "# 设置标题为样本的标签，将标签转换为numpy数组，字体大小为20\n",
    "plt.title(data['label'].asnumpy(), fontsize=20)\n",
    "plt.show() "
   ]
  },
  {
   "cell_type": "code",
   "execution_count": 18,
   "id": "18b2279d",
   "metadata": {},
   "outputs": [
    {
     "name": "stdout",
     "output_type": "stream",
     "text": [
      "[[1. 1. 1.]\n",
      " [2. 2. 2.]]\n",
      "[[3. 3. 3.]\n",
      " [6. 6. 6.]]\n"
     ]
    }
   ],
   "source": [
    "import mindspore as ms\n",
    "import mindspore.nn as nn\n",
    "from mindspore import Tensor\n",
    "import numpy as np\n",
    "\n",
    "# 创建一个2x3的二维数组，所有元素都为1或2，然后将其转换为MindSpore的张量，数据类型为float32\n",
    "input_a = Tensor(np.array([[1, 1, 1], [2, 2, 2]]), ms.float32)\n",
    "print(input_a)\n",
    "\n",
    "# 创建一个全连接层（即Dense层），输入通道数为3，输出通道数为3，权重初始化为1\n",
    "net = nn.Dense(in_channels=3, out_channels=3, weight_init=1)\n",
    "\n",
    "# 使用创建的全连接层处理输入张量，得到输出张量\n",
    "output = net(input_a)\n",
    "print(output)"
   ]
  },
  {
   "cell_type": "code",
   "execution_count": 19,
   "id": "f11b1cec",
   "metadata": {},
   "outputs": [
    {
     "name": "stdout",
     "output_type": "stream",
     "text": [
      "(1, 6, 28, 28)\n"
     ]
    }
   ],
   "source": [
    "# 创建一个二维卷积层，其中输入通道为1，输出通道为6，卷积核大小为5，不添加偏置，权重初始化为正态分布，不进行边缘填充\n",
    "conv2d = nn.Conv2d(1, 6, 5, has_bias=False, weight_init='normal', pad_mode='valid')\n",
    "\n",
    "# 创建一个形状为[1,1,32,32]的张量，所有元素都为1，数据类型为float32\n",
    "input_x = Tensor(np.ones([1, 1, 32, 32]), ms.float32)\n",
    "\n",
    "# 打印经过卷积层处理后的张量的形状\n",
    "print(conv2d(input_x).shape)"
   ]
  },
  {
   "cell_type": "code",
   "execution_count": 20,
   "id": "5377b562",
   "metadata": {},
   "outputs": [
    {
     "name": "stdout",
     "output_type": "stream",
     "text": [
      "[0. 2. 0. 2. 0.]\n"
     ]
    }
   ],
   "source": [
    "# 创建一个ReLU激活函数层，该层可以将所有负的输入元素变为0\n",
    "relu = nn.ReLU()\n",
    "\n",
    "# 创建一个一维张量，其中包含5个元素，数据类型为float16\n",
    "input_x = Tensor(np.array([-1, 2, -3, 2, -1]), ms.float16)\n",
    "\n",
    "# 使用ReLU激活函数处理输入张量，得到输出张量\n",
    "output = relu(input_x)\n",
    "\n",
    "print(output)"
   ]
  },
  {
   "cell_type": "code",
   "execution_count": 21,
   "id": "d042f192",
   "metadata": {},
   "outputs": [
    {
     "name": "stdout",
     "output_type": "stream",
     "text": [
      "(1, 6, 14, 14)\n"
     ]
    }
   ],
   "source": [
    "# 创建一个二维最大池化层，其中池化核大小为2，步长为2\n",
    "max_pool2d = nn.MaxPool2d(kernel_size=2, stride=2)\n",
    "\n",
    "# 创建一个形状为[1,6,28,28]的张量，所有元素都为1，数据类型为float32\n",
    "input_x = Tensor(np.ones([1, 6, 28, 28]), ms.float32)\n",
    "\n",
    "# 打印经过最大池化层处理后的张量的形状\n",
    "print(max_pool2d(input_x).shape)"
   ]
  },
  {
   "cell_type": "code",
   "execution_count": 22,
   "id": "487a4b27",
   "metadata": {},
   "outputs": [
    {
     "name": "stdout",
     "output_type": "stream",
     "text": [
      "(1, 400)\n"
     ]
    }
   ],
   "source": [
    "# 创建一个flatten层，该层可以将输入张量展平为一维\n",
    "flatten = nn.Flatten()\n",
    "\n",
    "# 创建一个形状为[1,16,5,5]的张量，所有元素都为1，数据类型为float32\n",
    "input_x = Tensor(np.ones([1, 16, 5, 5]), ms.float32)\n",
    "\n",
    "# 使用flatten层处理输入张量，得到输出张量\n",
    "output = flatten(input_x)\n",
    "\n",
    "# 打印展平后的张量的形状\n",
    "print(output.shape)"
   ]
  },
  {
   "cell_type": "code",
   "execution_count": 23,
   "id": "1908c126",
   "metadata": {},
   "outputs": [
    {
     "name": "stdout",
     "output_type": "stream",
     "text": [
      "('conv1.weight', Parameter (name=conv1.weight, shape=(6, 1, 5, 5), dtype=Float32, requires_grad=True))\n",
      "('conv2.weight', Parameter (name=conv2.weight, shape=(16, 6, 5, 5), dtype=Float32, requires_grad=True))\n",
      "('fc1.weight', Parameter (name=fc1.weight, shape=(120, 256), dtype=Float32, requires_grad=True))\n",
      "('fc1.bias', Parameter (name=fc1.bias, shape=(120,), dtype=Float32, requires_grad=True))\n",
      "('fc2.weight', Parameter (name=fc2.weight, shape=(84, 120), dtype=Float32, requires_grad=True))\n",
      "('fc2.bias', Parameter (name=fc2.bias, shape=(84,), dtype=Float32, requires_grad=True))\n",
      "('fc3.weight', Parameter (name=fc3.weight, shape=(10, 84), dtype=Float32, requires_grad=True))\n",
      "('fc3.bias', Parameter (name=fc3.bias, shape=(10,), dtype=Float32, requires_grad=True))\n"
     ]
    }
   ],
   "source": [
    "# 定义一个名为LeNet5的类，该类继承了nn.Cell类，用于构建LeNet5神经网络模型\n",
    "class LeNet5(nn.Cell):\n",
    "    \"\"\"\n",
    "    Lenet网络结构\n",
    "    \"\"\"\n",
    "    # 定义类的初始化方法，接受两个参数：类别数量（默认为10）和通道数量（默认为1）\n",
    "    def __init__(self, num_class=10, num_channel=1):\n",
    "        # 调用父类的初始化方法\n",
    "        super(LeNet5, self).__init__()\n",
    "        # 定义第一个卷积层，输入通道数等于num_channel，输出通道数为6，卷积核大小为5，不进行边缘填充\n",
    "        self.conv1 = nn.Conv2d(num_channel, 6, 5, pad_mode='valid')\n",
    "        # 定义第二个卷积层，输入通道数为6，输出通道数为16，卷积核大小为5，不进行边缘填充\n",
    "        self.conv2 = nn.Conv2d(6, 16, 5, pad_mode='valid')\n",
    "        # 定义第一个全连接层，输入节点数为16*4*4，输出节点数为120\n",
    "        self.fc1 = nn.Dense(16 * 4 * 4, 120)\n",
    "        # 定义第二个全连接层，输入节点数为120，输出节点数为84\n",
    "        self.fc2 = nn.Dense(120, 84)\n",
    "        # 定义第三个全连接层，输入节点数为84，输出节点数等于num_class\n",
    "        self.fc3 = nn.Dense(84, num_class)\n",
    "        # 定义ReLU激活函数\n",
    "        self.relu = nn.ReLU()\n",
    "        # 定义最大池化层，池化核大小为2，步长为2\n",
    "        self.max_pool2d = nn.MaxPool2d(kernel_size=2, stride=2)\n",
    "        # 定义展平操作，用于将多维特征图展平为一维\n",
    "        self.flatten = nn.Flatten()\n",
    "\n",
    "    # 定义构造方法，用于构建前向传播网络\n",
    "    def construct(self, x):\n",
    "        # 对输入张量x应用第一个卷积层\n",
    "        x = self.conv1(x)\n",
    "        # 对输出应用ReLU激活函数\n",
    "        x = self.relu(x)\n",
    "        # 对输出应用最大池化层\n",
    "        x = self.max_pool2d(x)\n",
    "        # 对输出应用第二个卷积层\n",
    "        x = self.conv2(x)\n",
    "        # 对输出应用ReLU激活函数\n",
    "        x = self.relu(x)\n",
    "        # 对输出应用最大池化层\n",
    "        x = self.max_pool2d(x)\n",
    "        # 对输出应用展平操作\n",
    "        x = self.flatten(x)\n",
    "        # 对输出应用第一个全连接层\n",
    "        x = self.fc1(x)\n",
    "        # 对输出应用ReLU激活函数\n",
    "        x = self.relu(x)\n",
    "        # 对输出应用第二个全连接层\n",
    "        x = self.fc2(x)\n",
    "        # 对输出应用ReLU激活函数\n",
    "        x = self.relu(x)\n",
    "        # 对输出应用第三个全连接层\n",
    "        x = self.fc3(x)\n",
    "        # 返回最后的输出\n",
    "        return x\n",
    "    \n",
    "# 创建LeNet5模型的实例\n",
    "modelle = LeNet5()\n",
    "# 调用模型的parameters_and_names方法，获取模型的所有参数及其名称，然后打印出来\n",
    "for m in modelle.parameters_and_names():\n",
    "    print(m)\n"
   ]
  },
  {
   "cell_type": "code",
   "execution_count": null,
   "id": "8a85f069",
   "metadata": {},
   "outputs": [],
   "source": [
    "import numpy as np\n",
    "import mindspore.nn as nn\n",
    "from mindspore import Tensor\n",
    "import mindspore.dataset as ds\n",
    "import mindspore as ms\n",
    "\n",
    "# 定义一个L1损失函数，它计算预测值和真实值之间的平均绝对误差\n",
    "loss = nn.L1Loss()\n",
    "\n",
    "# 创建一个float32类型的2D张量，它作为神经网络的输出\n",
    "output_data = Tensor(np.array([[1, 2, 3], [2, 3, 4]]).astype(np.float32))\n",
    "\n",
    "# 创建另一个float32类型的2D张量，它作为目标值\n",
    "target_data = Tensor(np.array([[0, 2, 5], [3, 1, 1]]).astype(np.float32))\n",
    "\n",
    "# 计算输出和目标之间的L1损失，并打印结果\n",
    "print(loss(output_data, target_data))"
   ]
  },
  {
   "cell_type": "code",
   "execution_count": null,
   "id": "2b3a62b1",
   "metadata": {},
   "outputs": [],
   "source": [
    "# 创建一个Momentum优化器，其参数为LeNet5模型的可训练参数，学习率为0.1，动量为0.9，权重衰减系数为0.0\n",
    "optim = nn.Momentum(params=modelle.trainable_params(), learning_rate=0.1, momentum=0.9, weight_decay=0.0)"
   ]
  },
  {
   "cell_type": "code",
   "execution_count": null,
   "id": "810c18a6",
   "metadata": {},
   "outputs": [],
   "source": [
    "from mindspore import Model  # 导入MindSpore的Model类\n",
    "\n",
    "# 创建LeNet5模型实例\n",
    "net = LeNet5()\n",
    "\n",
    "# 创建一个Softmax交叉熵损失函数，它适用于多分类问题，且真实标签为稀疏的情况，损失值的计算方式为取均值\n",
    "loss = nn.SoftmaxCrossEntropyWithLogits(sparse=True, reduction='mean')\n",
    "\n",
    "# 创建一个Momentum优化器，其参数为LeNet5模型的可训练参数，学习率为0.1，动量为0.9\n",
    "optim = nn.Momentum(params=net.trainable_params(), learning_rate=0.1, momentum=0.9)\n",
    "\n",
    "# 创建一个Model实例，其中网络为LeNet5模型，损失函数为Softmax交叉熵损失函数，优化器为Momentum优化器，评价指标为准确率\n",
    "model = Model(network = net, loss_fn=loss, optimizer=optim, metrics={'accuracy'})"
   ]
  },
  {
   "cell_type": "code",
   "execution_count": null,
   "id": "29f6c6c6",
   "metadata": {},
   "outputs": [],
   "source": [
    "import mindspore.dataset.transforms.c_transforms as C  # 导入MindSpore的transforms.c_transforms模块，该模块包含许多数据转换函数\n",
    "import mindspore.dataset.vision.c_transforms as CV  # 导入MindSpore的vision.c_transforms模块，该模块包含许多图像转换函数\n",
    "from mindspore.train.callback import  LossMonitor  # 导入MindSpore的LossMonitor类，用于在训练过程中监控损失值的变化\n",
    "\n",
    "DATA_DIR = './data/MNIST_Data/train'  # 定义存储MNIST训练集的目录\n",
    "mnist_dataset = ds.MnistDataset(DATA_DIR)  # 从指定的目录加载MNIST训练集\n",
    "\n",
    "resize_op = CV.Resize((28,28))  # 创建一个Resize操作，将图像尺寸调整为28x28\n",
    "rescale_op = CV.Rescale(1/255,0)  # 创建一个Rescale操作，将图像的像素值缩放到0-1范围\n",
    "hwc2chw_op = CV.HWC2CHW()  # 创建一个HWC2CHW操作，将图像的通道顺序从高度-宽度-通道（HWC）变为通道-高度-宽度（CHW）\n",
    "\n",
    "# 对训练集的图像应用上述的三个操作\n",
    "mnist_dataset  = mnist_dataset .map(input_columns=\"image\", operations=[rescale_op,resize_op, hwc2chw_op])\n",
    "\n",
    "# 对训练集的标签应用类型转换操作，将其转换为int32类型\n",
    "mnist_dataset  = mnist_dataset .map(input_columns=\"label\", operations=C.TypeCast(ms.int32))\n",
    "\n",
    "# 对训练集进行批处理，每个批次包含32个样本\n",
    "mnist_dataset = mnist_dataset.batch(32)\n",
    "\n",
    "# 创建一个LossMonitor实例，每1000个批次打印一次损失值\n",
    "loss_cb = LossMonitor(per_print_times=1000)\n",
    "\n",
    "# 开始训练模型，其中训练集为mnist_dataset，训练1个周期，每个周期结束后调用loss_cb回调函数\n",
    "model.train(epoch=1, train_dataset=mnist_dataset,callbacks=[loss_cb])    "
   ]
  },
  {
   "cell_type": "code",
   "execution_count": null,
   "id": "aee9be9e",
   "metadata": {},
   "outputs": [],
   "source": [
    "# 测试集\n",
    "DATA_DIR = './data/MNIST_Data/test'  # 定义存储MNIST测试集的目录\n",
    "dataset = ds.MnistDataset(DATA_DIR)  # 从指定的目录加载MNIST测试集\n",
    "\n",
    "resize_op = CV.Resize((28,28))  # 创建一个Resize操作，将图像尺寸调整为28x28\n",
    "rescale_op = CV.Rescale(1/255,0)  # 创建一个Rescale操作，将图像的像素值缩放到0-1范围\n",
    "hwc2chw_op = CV.HWC2CHW()  # 创建一个HWC2CHW操作，将图像的通道顺序从高度-宽度-通道（HWC）变为通道-高度-宽度（CHW）\n",
    "\n",
    "# 对测试集的图像应用上述的三个操作\n",
    "dataset  = dataset .map(input_columns=\"image\", operations=[rescale_op,resize_op, hwc2chw_op])\n",
    "\n",
    "# 对测试集的标签应用类型转换操作，将其转换为int32类型\n",
    "dataset  = dataset .map(input_columns=\"label\", operations=C.TypeCast(ms.int32))\n",
    "\n",
    "# 对测试集进行批处理，每个批次包含32个样本\n",
    "dataset = dataset.batch(32)\n",
    "\n",
    "# 在测试集上评估模型的性能\n",
    "model.eval(valid_dataset=dataset) "
   ]
  },
  {
   "cell_type": "code",
   "execution_count": null,
   "id": "6cae863f",
   "metadata": {},
   "outputs": [],
   "source": [
    "import mindspore as ms  # 导入MindSpore库\n",
    "\n",
    "# 保存LeNet5模型的参数到指定的文件中\n",
    "ms.save_checkpoint(net, \"./data/MyNet.ckpt\") # net为训练网络，\"./MyNet.ckpt\"为网络模型的保存路径。"
   ]
  },
  {
   "cell_type": "code",
   "execution_count": null,
   "id": "2356d224",
   "metadata": {},
   "outputs": [],
   "source": [
    "from mindspore.train.callback import ModelCheckpoint, CheckpointConfig  # 导入MindSpore的ModelCheckpoint和CheckpointConfig类\n",
    "\n",
    "# 设置训练的周期数为5\n",
    "epoch_num = 5\n",
    "\n",
    "# 创建一个CheckpointConfig实例，每1875个批次保存一次模型，最多保存10个模型文件\n",
    "config_ck = CheckpointConfig(save_checkpoint_steps=1875, keep_checkpoint_max=10)\n",
    "\n",
    "# 创建一个ModelCheckpoint实例，文件名前缀为\"lenet\"，模型文件保存在\"./lenet\"目录下，保存配置为config_ck\n",
    "ckpoint = ModelCheckpoint(prefix=\"lenet\", directory=\"./lenet\", config=config_ck)\n",
    "\n",
    "# 开始训练模型，其中训练集为mnist_dataset，训练5个周期，每个周期结束后调用ckpoint回调函数保存模型\n",
    "model.train(epoch_num, mnist_dataset, callbacks=[ckpoint])"
   ]
  },
  {
   "cell_type": "code",
   "execution_count": null,
   "id": "1dae46ec",
   "metadata": {},
   "outputs": [],
   "source": []
  },
  {
   "cell_type": "code",
   "execution_count": null,
   "id": "93daf82a",
   "metadata": {},
   "outputs": [],
   "source": []
  },
  {
   "cell_type": "code",
   "execution_count": null,
   "id": "0fc2ab2c",
   "metadata": {},
   "outputs": [],
   "source": []
  }
 ],
 "metadata": {
  "hide_input": false,
  "kernelspec": {
   "display_name": "Python 3 (ipykernel)",
   "language": "python",
   "name": "python3"
  },
  "language_info": {
   "codemirror_mode": {
    "name": "ipython",
    "version": 3
   },
   "file_extension": ".py",
   "mimetype": "text/x-python",
   "name": "python",
   "nbconvert_exporter": "python",
   "pygments_lexer": "ipython3",
   "version": "3.9.17"
  },
  "toc": {
   "base_numbering": 1,
   "nav_menu": {},
   "number_sections": true,
   "sideBar": true,
   "skip_h1_title": false,
   "title_cell": "Table of Contents",
   "title_sidebar": "Contents",
   "toc_cell": false,
   "toc_position": {},
   "toc_section_display": true,
   "toc_window_display": false
  }
 },
 "nbformat": 4,
 "nbformat_minor": 5
}
